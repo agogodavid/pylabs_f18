{
  "nbformat": 4,
  "nbformat_minor": 0,
  "metadata": {
    "colab": {
      "name": "Week_Four-Solutions.ipynb",
      "version": "0.3.2",
      "provenance": [],
      "include_colab_link": true
    },
    "kernelspec": {
      "name": "python3",
      "display_name": "Python 3"
    }
  },
  "cells": [
    {
      "cell_type": "markdown",
      "metadata": {
        "id": "view-in-github",
        "colab_type": "text"
      },
      "source": [
        "[View in Colaboratory](https://colab.research.google.com/github/agogodavid/pylabs_f18/blob/master/pylabs_one/Week_Four_Solutions.ipynb)"
      ]
    },
    {
      "metadata": {
        "id": "xTCkfdFBIoL1",
        "colab_type": "text"
      },
      "cell_type": "markdown",
      "source": [
        "# ISM 4211 Python Practice"
      ]
    },
    {
      "metadata": {
        "id": "Jt2HECw5IoL4",
        "colab_type": "text"
      },
      "cell_type": "markdown",
      "source": [
        "## Example...\n",
        "### Write a program to prompt the user for two names - first name and last name, then concatenate both of them to a full name and print it out\n",
        "\n",
        "## Click on cell below and Press SHIFT-ENTER to run it, and move to next cell"
      ]
    },
    {
      "metadata": {
        "id": "DXf9lgUyIoL7",
        "colab_type": "code",
        "colab": {
          "base_uri": "https://localhost:8080/",
          "height": 403
        },
        "outputId": "b6bf72ef-ab8f-4a9c-8641-5c85486c2152"
      },
      "cell_type": "code",
      "source": [
        "a = input(\"Please enter the first name: \")\n",
        "b = input(\"Please enter the last name: \")\n",
        "full_name = a + \" \" + b\n",
        "print(\"the full name is \", full_name)"
      ],
      "execution_count": 12,
      "outputs": [
        {
          "output_type": "stream",
          "text": [
            "Please enter the first name: Jim \n"
          ],
          "name": "stdout"
        },
        {
          "output_type": "error",
          "ename": "NameError",
          "evalue": "ignored",
          "traceback": [
            "\u001b[0;31m\u001b[0m",
            "\u001b[0;31mNameError\u001b[0mTraceback (most recent call last)",
            "\u001b[0;32m<ipython-input-12-fadc3bec3c69>\u001b[0m in \u001b[0;36m<module>\u001b[0;34m()\u001b[0m\n\u001b[0;32m----> 1\u001b[0;31m \u001b[0ma\u001b[0m \u001b[0;34m=\u001b[0m \u001b[0minput\u001b[0m\u001b[0;34m(\u001b[0m\u001b[0;34m\"Please enter the first name: \"\u001b[0m\u001b[0;34m)\u001b[0m\u001b[0;34m\u001b[0m\u001b[0m\n\u001b[0m\u001b[1;32m      2\u001b[0m \u001b[0mb\u001b[0m \u001b[0;34m=\u001b[0m \u001b[0minput\u001b[0m\u001b[0;34m(\u001b[0m\u001b[0;34m\"Please enter the last name: \"\u001b[0m\u001b[0;34m)\u001b[0m\u001b[0;34m\u001b[0m\u001b[0m\n\u001b[1;32m      3\u001b[0m \u001b[0mfull_name\u001b[0m \u001b[0;34m=\u001b[0m \u001b[0ma\u001b[0m \u001b[0;34m+\u001b[0m \u001b[0;34m\" \"\u001b[0m \u001b[0;34m+\u001b[0m \u001b[0mb\u001b[0m\u001b[0;34m\u001b[0m\u001b[0m\n\u001b[1;32m      4\u001b[0m \u001b[0;32mprint\u001b[0m\u001b[0;34m(\u001b[0m\u001b[0;34m\"the full name is \"\u001b[0m\u001b[0;34m,\u001b[0m \u001b[0mfull_name\u001b[0m\u001b[0;34m)\u001b[0m\u001b[0;34m\u001b[0m\u001b[0m\n",
            "\u001b[0;32m/usr/local/lib/python2.7/dist-packages/ipykernel/ipkernel.pyc\u001b[0m in \u001b[0;36m<lambda>\u001b[0;34m(prompt)\u001b[0m\n\u001b[1;32m    162\u001b[0m             \u001b[0mself\u001b[0m\u001b[0;34m.\u001b[0m\u001b[0m_sys_eval_input\u001b[0m \u001b[0;34m=\u001b[0m \u001b[0mbuiltin_mod\u001b[0m\u001b[0;34m.\u001b[0m\u001b[0minput\u001b[0m\u001b[0;34m\u001b[0m\u001b[0m\n\u001b[1;32m    163\u001b[0m             \u001b[0mbuiltin_mod\u001b[0m\u001b[0;34m.\u001b[0m\u001b[0mraw_input\u001b[0m \u001b[0;34m=\u001b[0m \u001b[0mself\u001b[0m\u001b[0;34m.\u001b[0m\u001b[0mraw_input\u001b[0m\u001b[0;34m\u001b[0m\u001b[0m\n\u001b[0;32m--> 164\u001b[0;31m             \u001b[0mbuiltin_mod\u001b[0m\u001b[0;34m.\u001b[0m\u001b[0minput\u001b[0m \u001b[0;34m=\u001b[0m \u001b[0;32mlambda\u001b[0m \u001b[0mprompt\u001b[0m\u001b[0;34m=\u001b[0m\u001b[0;34m''\u001b[0m\u001b[0;34m:\u001b[0m \u001b[0meval\u001b[0m\u001b[0;34m(\u001b[0m\u001b[0mself\u001b[0m\u001b[0;34m.\u001b[0m\u001b[0mraw_input\u001b[0m\u001b[0;34m(\u001b[0m\u001b[0mprompt\u001b[0m\u001b[0;34m)\u001b[0m\u001b[0;34m)\u001b[0m\u001b[0;34m\u001b[0m\u001b[0m\n\u001b[0m\u001b[1;32m    165\u001b[0m         \u001b[0mself\u001b[0m\u001b[0;34m.\u001b[0m\u001b[0m_save_getpass\u001b[0m \u001b[0;34m=\u001b[0m \u001b[0mgetpass\u001b[0m\u001b[0;34m.\u001b[0m\u001b[0mgetpass\u001b[0m\u001b[0;34m\u001b[0m\u001b[0m\n\u001b[1;32m    166\u001b[0m         \u001b[0mgetpass\u001b[0m\u001b[0;34m.\u001b[0m\u001b[0mgetpass\u001b[0m \u001b[0;34m=\u001b[0m \u001b[0mself\u001b[0m\u001b[0;34m.\u001b[0m\u001b[0mgetpass\u001b[0m\u001b[0;34m\u001b[0m\u001b[0m\n",
            "\u001b[0;32m/usr/local/lib/python2.7/dist-packages/ipykernel/ipkernel.pyc\u001b[0m in \u001b[0;36m<module>\u001b[0;34m()\u001b[0m\n",
            "\u001b[0;31mNameError\u001b[0m: name 'Jim' is not defined"
          ]
        }
      ]
    },
    {
      "metadata": {
        "id": "CEZkaYwhIoMD",
        "colab_type": "text"
      },
      "cell_type": "markdown",
      "source": [
        "## Example....\n",
        "### Write a program to prompt the user for two numbers, then sum both of them and print it out\n",
        "\n",
        "## Click on cell below and Press CTRL-ENTER to run it, WITHOUT moving to next cell"
      ]
    },
    {
      "metadata": {
        "id": "SBKKdVJiIoME",
        "colab_type": "code",
        "colab": {}
      },
      "cell_type": "code",
      "source": [
        "a = input(\"Please enter the first number: \")\n",
        "b = input(\"Please enter the second number: \")\n",
        "sum_ = a + b\n",
        "print(\"the sum of the two numbers is \", sum_)"
      ],
      "execution_count": 0,
      "outputs": []
    },
    {
      "metadata": {
        "id": "-aax6_rHIoMM",
        "colab_type": "text"
      },
      "cell_type": "markdown",
      "source": [
        "## What is wrong with the code above?"
      ]
    },
    {
      "metadata": {
        "id": "qD0dLHQdIoMP",
        "colab_type": "code",
        "colab": {}
      },
      "cell_type": "code",
      "source": [
        "a = input(\"Please enter the first number: \")\n",
        "b = input(\"Please enter the second number: \")\n",
        "sum_ = int(a) + int(b)\n",
        "print(\"the sum of the two numbers is \", sum_)"
      ],
      "execution_count": 0,
      "outputs": []
    },
    {
      "metadata": {
        "id": "mld2XDo6IoMX",
        "colab_type": "text"
      },
      "cell_type": "markdown",
      "source": [
        "## Write a program to prompt the user for hours and rate per hour to compute gross pay. \n",
        "#### Remember to use input() to receive the values, and to convert to the right type.\n",
        "### Hours = 35 and Rate = 2.75\n",
        "### Answer should be 96.25"
      ]
    },
    {
      "metadata": {
        "id": "S1_PJY6zIoMZ",
        "colab_type": "code",
        "colab": {}
      },
      "cell_type": "code",
      "source": [
        "#enter your code in here.\n",
        "#Alt-Enter runs the cell and adds a new cell below (advisable if you want more room)\n",
        "#Ctrl-Enter runs the cell only... Shift-Enter runs the cell and moves to following cell\n",
        "\n",
        "hours = input(\"Please enter the number of hours\")\n",
        "rate = input(\"please enter the hourly rate\")\n",
        "pay = int(hours)*float(rate)\n",
        "print(\"the total pay is \", pay)"
      ],
      "execution_count": 0,
      "outputs": []
    },
    {
      "metadata": {
        "id": "ZheWvfZTIoMg",
        "colab_type": "text"
      },
      "cell_type": "markdown",
      "source": [
        "## Write a program to prompt the user for hours and rate per hour to compute gross pay. Pay the hourly rate for the hours up to 40 and 1.5 times the hourly rate for all hours worked above 40 hours. \n",
        "\n",
        "### Use 45 hours and a rate of 10.50 per hour to test the program (the pay should be 498.75). \n",
        "#### You should use input to read a string and float() to convert the string to a number. Do not worry about error checking the user input - assume the user types numbers properly, and there is always overtime."
      ]
    },
    {
      "metadata": {
        "id": "11Zl8IovIoMh",
        "colab_type": "code",
        "colab": {}
      },
      "cell_type": "code",
      "source": [
        "#enter your code in here.\n",
        "#Ctrl-Enter runs the cell only... #Alt-Enter runs the cell and adds a new cell below\n",
        "\n",
        "hours = input(\"Please enter the number of hours\")\n",
        "rate = input(\"please enter the hourly rate\")\n",
        "\n",
        "overtime_hrs = int(hours) - 40\n",
        "pay_base = 40*float(rate)\n",
        "pay_extra = overtime_hrs * float(rate) * 1.5\n",
        "pay = pay_base + pay_extra\n",
        "\n",
        "print(\"the total pay, including overtime is \", pay)\n"
      ],
      "execution_count": 0,
      "outputs": []
    },
    {
      "metadata": {
        "id": "4sefjOBYIoMo",
        "colab_type": "text"
      },
      "cell_type": "markdown",
      "source": [
        "## What are some possible issues with this particular program?\n",
        "\n",
        "#### hint: I told you not to worry about them just yet!"
      ]
    },
    {
      "metadata": {
        "id": "LpMRaDB7IoMq",
        "colab_type": "text"
      },
      "cell_type": "markdown",
      "source": [
        "## Example\n",
        "### Now lets work with \"lists\" a data structure that allows you store a 'collection' of information in a single variable"
      ]
    },
    {
      "metadata": {
        "id": "6BsdLHIxIoMr",
        "colab_type": "code",
        "colab": {}
      },
      "cell_type": "code",
      "source": [
        "cities_visited = [\"Miami\", \"New York\", \"Boston\"]\n",
        "print(cities_visited)"
      ],
      "execution_count": 0,
      "outputs": []
    },
    {
      "metadata": {
        "id": "R2RmRpAvIoMy",
        "colab_type": "text"
      },
      "cell_type": "markdown",
      "source": [
        "### You visit a new city and would like to update this list. How might you do this? Let's check out a few different ways..."
      ]
    },
    {
      "metadata": {
        "id": "IV_jf3GPIoM0",
        "colab_type": "code",
        "colab": {}
      },
      "cell_type": "code",
      "source": [
        "cities_visited.append(\"San Francisco\")\n",
        "print(cities_visited)"
      ],
      "execution_count": 0,
      "outputs": []
    },
    {
      "metadata": {
        "id": "Zh8ZcX_1IoM7",
        "colab_type": "code",
        "colab": {}
      },
      "cell_type": "code",
      "source": [
        "cities_visited.extend([\"San Jose\", \"Berkeley\"])\n",
        "print(cities_visited)"
      ],
      "execution_count": 0,
      "outputs": []
    },
    {
      "metadata": {
        "id": "Jl1qf0-kIoNB",
        "colab_type": "code",
        "colab": {}
      },
      "cell_type": "code",
      "source": [
        "cities_visited = cities_visited + [\"Los Angeles\", \"Ventura\"]\n",
        "print(cities_visited)"
      ],
      "execution_count": 0,
      "outputs": []
    },
    {
      "metadata": {
        "id": "J6vXawjgIoNI",
        "colab_type": "text"
      },
      "cell_type": "markdown",
      "source": [
        "## Create a new list called \"shopping_cart\" with the following products that we need to purchase to hold a block party.\n",
        "### invitations, fireworks, soda, hot dogs, and games. \n",
        "### Print the list when it has been created"
      ]
    },
    {
      "metadata": {
        "id": "5SiXl-YGIoNJ",
        "colab_type": "code",
        "colab": {}
      },
      "cell_type": "code",
      "source": [
        "#Enter your code in here. Remember to use Alt-Enter if you need more room.\n",
        "\n",
        "shopping_cart = [\"invitations\", \"fireworks\",\"soda\",\"hot dogs\",\"games\"]\n",
        "print(shopping_cart)\n"
      ],
      "execution_count": 0,
      "outputs": []
    },
    {
      "metadata": {
        "id": "NUFrBdAeIoNQ",
        "colab_type": "text"
      },
      "cell_type": "markdown",
      "source": [
        "## Update your shopping_cart list with two new items (fruit salad, city permit) and print the list once more.\n"
      ]
    },
    {
      "metadata": {
        "id": "xstam1ABIoNT",
        "colab_type": "code",
        "colab": {}
      },
      "cell_type": "code",
      "source": [
        "#Enter your code here\n",
        "\n",
        "shopping_cart.append(\"fruit salad\")\n",
        "shopping_cart.append(\"city permit\")\n",
        "\n",
        "print(shopping_cart)"
      ],
      "execution_count": 0,
      "outputs": []
    },
    {
      "metadata": {
        "id": "OkHClOGlIoNf",
        "colab_type": "text"
      },
      "cell_type": "markdown",
      "source": [
        "## Sort the list in alphabetical order and print out the sorted list\n"
      ]
    },
    {
      "metadata": {
        "id": "eykE8LpqIoNh",
        "colab_type": "code",
        "colab": {}
      },
      "cell_type": "code",
      "source": [
        "#Enter your code here \n",
        "\n",
        "shopping_cart.sort()\n",
        "\n",
        "print(shopping_cart)"
      ],
      "execution_count": 0,
      "outputs": []
    },
    {
      "metadata": {
        "id": "udHAaZ_LIoNo",
        "colab_type": "text"
      },
      "cell_type": "markdown",
      "source": [
        "## Can you try reversing the sort order?\n",
        "\n",
        "### Hint: Try running a help request on the object 'shopping_cart'"
      ]
    },
    {
      "metadata": {
        "id": "n-0vtqbkIoNp",
        "colab_type": "code",
        "colab": {}
      },
      "cell_type": "code",
      "source": [
        "#Enter your code here\n",
        "\n",
        "shopping_cart.sort(reverse = True)\n",
        "\n",
        "print(shopping_cart)"
      ],
      "execution_count": 0,
      "outputs": []
    },
    {
      "metadata": {
        "id": "riIn-RbTIoNv",
        "colab_type": "text"
      },
      "cell_type": "markdown",
      "source": [
        "## Print out only the last item on the list \n",
        "\n",
        "### Remember, python list indexes begin from zero"
      ]
    },
    {
      "metadata": {
        "id": "p8gABgnFIoNw",
        "colab_type": "code",
        "colab": {}
      },
      "cell_type": "code",
      "source": [
        "#enter your code here\n",
        "\n",
        "print(shopping_cart[-1])"
      ],
      "execution_count": 0,
      "outputs": []
    },
    {
      "metadata": {
        "id": "VQI9e7ZhI9eS",
        "colab_type": "text"
      },
      "cell_type": "markdown",
      "source": [
        "# Additional Practice (Optional)\n",
        "\n",
        "## Combining the insights from this lesson, can you write a code to receive the name of a place visited by the user and add that information to an existing list cities_visited then print out the entire list.\n",
        "\n"
      ]
    },
    {
      "metadata": {
        "id": "HBqE4dy4I8eA",
        "colab_type": "code",
        "colab": {}
      },
      "cell_type": "code",
      "source": [
        "cities_visited = []\n",
        "new_city = input(\"Please enter in a new city visited: \")\n",
        "cities_visited.append(new_city)\n",
        "print (cities_visited)\n",
        "\n"
      ],
      "execution_count": 0,
      "outputs": []
    },
    {
      "metadata": {
        "id": "0FVafm8QLroW",
        "colab_type": "text"
      },
      "cell_type": "markdown",
      "source": [
        "## An additional solution "
      ]
    },
    {
      "metadata": {
        "id": "BeE7xESaLsCs",
        "colab_type": "code",
        "colab": {}
      },
      "cell_type": "code",
      "source": [
        "cities_visited = []\n",
        "enters = input(\"Do you have a new city to enter? Enter y for yes, or n for no \") \n",
        "while enters == 'y':\n",
        "  new_city = input(\"Please enter in a new city visited: \")\n",
        "  cities_visited.append(new_city)\n",
        "  enters = input(\"Do you have another  city to enter? Enter y for yes, or n for no \") \n",
        "\n",
        "print (len(cities_visited), \" cities entered\")\n",
        "print (cities_visited)\n",
        "\n"
      ],
      "execution_count": 0,
      "outputs": []
    }
  ]
}