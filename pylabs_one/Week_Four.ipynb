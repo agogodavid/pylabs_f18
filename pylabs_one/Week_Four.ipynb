{
  "nbformat": 4,
  "nbformat_minor": 0,
  "metadata": {
    "colab": {
      "name": "Week_Four.ipynb",
      "version": "0.3.2",
      "provenance": [],
      "collapsed_sections": [],
      "toc_visible": true,
      "include_colab_link": true
    },
    "kernelspec": {
      "display_name": "Python 3",
      "language": "python",
      "name": "python3"
    }
  },
  "cells": [
    {
      "cell_type": "markdown",
      "metadata": {
        "id": "view-in-github",
        "colab_type": "text"
      },
      "source": [
        "[View in Colaboratory](https://colab.research.google.com/github/agogodavid/pylabs_f18/blob/master/pylabs_one/Week_Four.ipynb)"
      ]
    },
    {
      "metadata": {
        "id": "Q5Qs-Okvkbr2",
        "colab_type": "text"
      },
      "cell_type": "markdown",
      "source": [
        "# ISM 4211 \n",
        "## Intro to Python Practice"
      ]
    },
    {
      "metadata": {
        "id": "Fkz4jdtwm4Hv",
        "colab_type": "text"
      },
      "cell_type": "markdown",
      "source": [
        "# Section A"
      ]
    },
    {
      "metadata": {
        "id": "mGqv9mj_kbr_",
        "colab_type": "text"
      },
      "cell_type": "markdown",
      "source": [
        "## 1. Example...\n",
        "### Write a program to prompt the user for two names - first name and last name, then concatenate both of them to a full name and print it out\n",
        "\n",
        "## Click on cell below and Press SHIFT-ENTER to run it, and move to next cell"
      ]
    },
    {
      "metadata": {
        "id": "gmoXk1JqkbsH",
        "colab_type": "code",
        "colab": {}
      },
      "cell_type": "code",
      "source": [
        "a = input(\"Please enter the first name: \")\n",
        "b = input(\"Please enter the last name: \")\n",
        "full_name = a + \" \" + b \n",
        "print(\"the full name is \", full_name)"
      ],
      "execution_count": 0,
      "outputs": []
    },
    {
      "metadata": {
        "id": "hWjCzNPxkbsS",
        "colab_type": "text"
      },
      "cell_type": "markdown",
      "source": [
        "## 2. Example....\n",
        "### Write a program to prompt the user for two numbers, then sum both of them and print it out\n",
        "\n",
        "## Click on cell below and Press CTRL-ENTER to run it, WITHOUT moving to next cell"
      ]
    },
    {
      "metadata": {
        "id": "oO94X1p_kbsU",
        "colab_type": "code",
        "colab": {
          "base_uri": "https://localhost:8080/",
          "height": 72
        },
        "outputId": "543fee54-6640-4915-ce68-e43bc055a76c"
      },
      "cell_type": "code",
      "source": [
        "a = input(\"Please enter the first number: \")\n",
        "b = input(\"Please enter the second number: \")\n",
        "sum = a + b\n",
        "print(\"the sum of the two numbers is \", sum)"
      ],
      "execution_count": 2,
      "outputs": [
        {
          "output_type": "stream",
          "text": [
            "Please enter the first number: 2\n",
            "Please enter the second number: 2\n",
            "the sum of the two numbers is  22\n"
          ],
          "name": "stdout"
        }
      ]
    },
    {
      "metadata": {
        "id": "Wd_A1l15kbsa",
        "colab_type": "text"
      },
      "cell_type": "markdown",
      "source": [
        "## 3. What is wrong with the code above?"
      ]
    },
    {
      "metadata": {
        "id": "lz4-Fx4wkbsc",
        "colab_type": "code",
        "colab": {}
      },
      "cell_type": "code",
      "source": [
        "a = input(\"Please enter the first number: \")\n",
        "b = input(\"Please enter the second number: \")\n",
        "sum = int(a) + int(b)\n",
        "print(\"the sum of the two numbers is \", sum)"
      ],
      "execution_count": 0,
      "outputs": []
    },
    {
      "metadata": {
        "id": "HB2zA1FPmz25",
        "colab_type": "text"
      },
      "cell_type": "markdown",
      "source": [
        "# Section B"
      ]
    },
    {
      "metadata": {
        "id": "kYeRl9aLkbsi",
        "colab_type": "text"
      },
      "cell_type": "markdown",
      "source": [
        "## 4. Write a program to prompt the user for hours and rate per hour to compute gross pay. \n",
        "#### Remember to use input() to receive the values, and to convert to the right type.\n",
        "### Hours = 35 and Rate = 2.75\n",
        "### Answer should be 96.25"
      ]
    },
    {
      "metadata": {
        "id": "trPQy32Akbsl",
        "colab_type": "code",
        "colab": {}
      },
      "cell_type": "code",
      "source": [
        "#enter your code in here.\n",
        "#Alt-Enter runs the cell and adds a new cell below (advisable if you want more room)\n",
        "#Ctrl-Enter runs the cell only... Shift-Enter runs the cell and moves to following cell\n"
      ],
      "execution_count": 0,
      "outputs": []
    },
    {
      "metadata": {
        "id": "xIdvgmqNkbsr",
        "colab_type": "text"
      },
      "cell_type": "markdown",
      "source": [
        "## 5. Modify your above program to pay the hourly rate for the hours up to 40 and 1.5 times the hourly rate for all hours worked above 40 hours. \n",
        "\n",
        "### Use 45 hours and a rate of 10.50 per hour to test the program (the pay should be 498.75). \n",
        "#### You should use input to read a string and float() to convert the string to a number. Do not worry about error checking the user input - assume the user types numbers properly, and there is always overtime."
      ]
    },
    {
      "metadata": {
        "id": "4KZwiXZokbst",
        "colab_type": "code",
        "colab": {}
      },
      "cell_type": "code",
      "source": [
        "#enter your code in here.\n",
        "#Ctrl-Enter runs the cell only... #Alt-Enter runs the cell and adds a new cell below\n"
      ],
      "execution_count": 0,
      "outputs": []
    },
    {
      "metadata": {
        "id": "kAPB6ObXkbsz",
        "colab_type": "text"
      },
      "cell_type": "markdown",
      "source": [
        "## 6. What are some possible issues with this particular program?\n",
        "\n",
        "#### hint: I told you not to worry about them just yet!"
      ]
    },
    {
      "metadata": {
        "id": "DPQfCB_Rm9jm",
        "colab_type": "text"
      },
      "cell_type": "markdown",
      "source": [
        "# Section C"
      ]
    },
    {
      "metadata": {
        "id": "vnPDmlbAkbs1",
        "colab_type": "text"
      },
      "cell_type": "markdown",
      "source": [
        "## 7. Example\n",
        "### Now lets work with \"lists\" a data structure that allows you store a 'collection' of information in a single variable"
      ]
    },
    {
      "metadata": {
        "id": "RJ3GRMiFkbs3",
        "colab_type": "code",
        "colab": {}
      },
      "cell_type": "code",
      "source": [
        "cities_visited = [\"Miami\", \"New York\", \"Boston\"]\n",
        "print(cities_visited)"
      ],
      "execution_count": 0,
      "outputs": []
    },
    {
      "metadata": {
        "id": "Y3PNGAZEkbs8",
        "colab_type": "text"
      },
      "cell_type": "markdown",
      "source": [
        "### You visit a new city and would like to update this list. How might you do this? Let's check out a few different ways..."
      ]
    },
    {
      "metadata": {
        "id": "q2z5Zqrxkbs_",
        "colab_type": "code",
        "colab": {}
      },
      "cell_type": "code",
      "source": [
        "cities_visited.append(\"San Francisco\")\n",
        "print(cities_visited)"
      ],
      "execution_count": 0,
      "outputs": []
    },
    {
      "metadata": {
        "id": "DEatTk-rkbtG",
        "colab_type": "code",
        "colab": {}
      },
      "cell_type": "code",
      "source": [
        "cities_visited.extend([\"San Jose\", \"Berkeley\"])\n",
        "print(cities_visited)"
      ],
      "execution_count": 0,
      "outputs": []
    },
    {
      "metadata": {
        "id": "oODaBa7OkbtP",
        "colab_type": "code",
        "colab": {}
      },
      "cell_type": "code",
      "source": [
        "cities_visited = cities_visited + [\"Los Angeles\", \"Ventura\"]\n",
        "print(cities_visited)"
      ],
      "execution_count": 0,
      "outputs": []
    },
    {
      "metadata": {
        "id": "70Dg5RrakbtV",
        "colab_type": "text"
      },
      "cell_type": "markdown",
      "source": [
        "## 8. Create a new list called \"shopping_cart\" with the following products that we need to purchase to hold a block party.\n",
        "### invitations, fireworks, soda, hot dogs, and games. \n",
        "### Print the list when it has been created"
      ]
    },
    {
      "metadata": {
        "id": "v9aerzkykbtX",
        "colab_type": "code",
        "colab": {}
      },
      "cell_type": "code",
      "source": [
        "#Enter your code in here. Remember to use Alt-Enter if you need more room."
      ],
      "execution_count": 0,
      "outputs": []
    },
    {
      "metadata": {
        "id": "DS7jDdKmkbtd",
        "colab_type": "text"
      },
      "cell_type": "markdown",
      "source": [
        "## Update your shopping_cart list with two new items (fruit salad, city permit) and print the list once more.\n"
      ]
    },
    {
      "metadata": {
        "id": "0RaLdmD3kbtf",
        "colab_type": "code",
        "colab": {}
      },
      "cell_type": "code",
      "source": [
        "#Enter your code here"
      ],
      "execution_count": 0,
      "outputs": []
    },
    {
      "metadata": {
        "id": "z_tq7APTkbtn",
        "colab_type": "text"
      },
      "cell_type": "markdown",
      "source": [
        "## Sort the list in alphabetical order and print out the sorted list\n"
      ]
    },
    {
      "metadata": {
        "id": "rYYbQjcckbtp",
        "colab_type": "code",
        "colab": {}
      },
      "cell_type": "code",
      "source": [
        "#Enter your code here "
      ],
      "execution_count": 0,
      "outputs": []
    },
    {
      "metadata": {
        "id": "hB4hlgEnkbty",
        "colab_type": "text"
      },
      "cell_type": "markdown",
      "source": [
        "## Can you try reversing the sort order?\n",
        "\n",
        "### Hint: Try running a help request on the object 'shopping_cart'"
      ]
    },
    {
      "metadata": {
        "id": "oEwUF0Uekbtz",
        "colab_type": "code",
        "colab": {}
      },
      "cell_type": "code",
      "source": [
        "#Enter your code here"
      ],
      "execution_count": 0,
      "outputs": []
    },
    {
      "metadata": {
        "id": "HMCXpm4Zkbt5",
        "colab_type": "text"
      },
      "cell_type": "markdown",
      "source": [
        "## Print out only the last item on the list \n",
        "\n",
        "### Remember, python list indexes begin from zero"
      ]
    },
    {
      "metadata": {
        "id": "ohGuurVwkbt9",
        "colab_type": "code",
        "colab": {}
      },
      "cell_type": "code",
      "source": [
        "#enter your code here"
      ],
      "execution_count": 0,
      "outputs": []
    }
  ]
}